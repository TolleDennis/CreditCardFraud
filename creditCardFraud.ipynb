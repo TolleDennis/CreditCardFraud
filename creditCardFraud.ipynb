{
  "nbformat": 4,
  "nbformat_minor": 0,
  "metadata": {
    "colab": {
      "name": "creditCardFraud.ipynb",
      "provenance": [],
      "collapsed_sections": [],
      "authorship_tag": "ABX9TyOS61KGZ9RmJTGeyUXqmb6l",
      "include_colab_link": true
    },
    "kernelspec": {
      "display_name": "Python 3",
      "name": "python3"
    },
    "language_info": {
      "name": "python"
    }
  },
  "cells": [
    {
      "cell_type": "markdown",
      "metadata": {
        "id": "view-in-github",
        "colab_type": "text"
      },
      "source": [
        "<a href=\"https://colab.research.google.com/github/TolleDennis/CreditCardFraud/blob/main/creditCardFraud.ipynb\" target=\"_parent\"><img src=\"https://colab.research.google.com/assets/colab-badge.svg\" alt=\"Open In Colab\"/></a>"
      ]
    },
    {
      "cell_type": "code",
      "metadata": {
        "id": "wlL5u_xa-lf8"
      },
      "source": [
        "import numpy as np\n",
        "import pandas as pd\n",
        "from sklearn.metrics import accuracy_score,classification_report,confusion_matrix\n",
        "from sklearn.linear_model import LogisticRegression\n",
        "from sklearn.model_selection import train_test_split"
      ],
      "execution_count": 46,
      "outputs": []
    },
    {
      "cell_type": "code",
      "metadata": {
        "colab": {
          "base_uri": "https://localhost:8080/",
          "height": 419
        },
        "id": "yNKdZzeq-znI",
        "outputId": "80cb5135-c598-4a82-cd4c-283f273c63f8"
      },
      "source": [
        "#loading of the data to panda data frame\n",
        "credit_card_fraud=pd.read_csv(\"credictFraud.csv\")\n",
        "credit_card_fraud\n"
      ],
      "execution_count": 47,
      "outputs": [
        {
          "output_type": "execute_result",
          "data": {
            "text/html": [
              "<div>\n",
              "<style scoped>\n",
              "    .dataframe tbody tr th:only-of-type {\n",
              "        vertical-align: middle;\n",
              "    }\n",
              "\n",
              "    .dataframe tbody tr th {\n",
              "        vertical-align: top;\n",
              "    }\n",
              "\n",
              "    .dataframe thead th {\n",
              "        text-align: right;\n",
              "    }\n",
              "</style>\n",
              "<table border=\"1\" class=\"dataframe\">\n",
              "  <thead>\n",
              "    <tr style=\"text-align: right;\">\n",
              "      <th></th>\n",
              "      <th>step</th>\n",
              "      <th>type</th>\n",
              "      <th>amount</th>\n",
              "      <th>nameOrig</th>\n",
              "      <th>oldbalanceOrg</th>\n",
              "      <th>newbalanceOrig</th>\n",
              "      <th>nameDest</th>\n",
              "      <th>oldbalanceDest</th>\n",
              "      <th>newbalanceDest</th>\n",
              "      <th>isFraud</th>\n",
              "      <th>isFlaggedFraud</th>\n",
              "    </tr>\n",
              "  </thead>\n",
              "  <tbody>\n",
              "    <tr>\n",
              "      <th>0</th>\n",
              "      <td>1</td>\n",
              "      <td>PAYMENT</td>\n",
              "      <td>9839.64</td>\n",
              "      <td>C1231006815</td>\n",
              "      <td>170136.00</td>\n",
              "      <td>160296.36</td>\n",
              "      <td>M1979787155</td>\n",
              "      <td>0.00</td>\n",
              "      <td>0.00</td>\n",
              "      <td>0</td>\n",
              "      <td>0.0</td>\n",
              "    </tr>\n",
              "    <tr>\n",
              "      <th>1</th>\n",
              "      <td>1</td>\n",
              "      <td>PAYMENT</td>\n",
              "      <td>1864.28</td>\n",
              "      <td>C1666544295</td>\n",
              "      <td>21249.00</td>\n",
              "      <td>19384.72</td>\n",
              "      <td>M2044282225</td>\n",
              "      <td>0.00</td>\n",
              "      <td>0.00</td>\n",
              "      <td>0</td>\n",
              "      <td>0.0</td>\n",
              "    </tr>\n",
              "    <tr>\n",
              "      <th>2</th>\n",
              "      <td>1</td>\n",
              "      <td>TRANSFER</td>\n",
              "      <td>181.00</td>\n",
              "      <td>C1305486145</td>\n",
              "      <td>181.00</td>\n",
              "      <td>0.00</td>\n",
              "      <td>C553264065</td>\n",
              "      <td>0.00</td>\n",
              "      <td>0.00</td>\n",
              "      <td>1</td>\n",
              "      <td>0.0</td>\n",
              "    </tr>\n",
              "    <tr>\n",
              "      <th>3</th>\n",
              "      <td>1</td>\n",
              "      <td>CASH_OUT</td>\n",
              "      <td>181.00</td>\n",
              "      <td>C840083671</td>\n",
              "      <td>181.00</td>\n",
              "      <td>0.00</td>\n",
              "      <td>C38997010</td>\n",
              "      <td>21182.00</td>\n",
              "      <td>0.00</td>\n",
              "      <td>1</td>\n",
              "      <td>0.0</td>\n",
              "    </tr>\n",
              "    <tr>\n",
              "      <th>4</th>\n",
              "      <td>1</td>\n",
              "      <td>PAYMENT</td>\n",
              "      <td>11668.14</td>\n",
              "      <td>C2048537720</td>\n",
              "      <td>41554.00</td>\n",
              "      <td>29885.86</td>\n",
              "      <td>M1230701703</td>\n",
              "      <td>0.00</td>\n",
              "      <td>0.00</td>\n",
              "      <td>0</td>\n",
              "      <td>0.0</td>\n",
              "    </tr>\n",
              "    <tr>\n",
              "      <th>...</th>\n",
              "      <td>...</td>\n",
              "      <td>...</td>\n",
              "      <td>...</td>\n",
              "      <td>...</td>\n",
              "      <td>...</td>\n",
              "      <td>...</td>\n",
              "      <td>...</td>\n",
              "      <td>...</td>\n",
              "      <td>...</td>\n",
              "      <td>...</td>\n",
              "      <td>...</td>\n",
              "    </tr>\n",
              "    <tr>\n",
              "      <th>3925155</th>\n",
              "      <td>285</td>\n",
              "      <td>CASH_OUT</td>\n",
              "      <td>99022.47</td>\n",
              "      <td>C551299430</td>\n",
              "      <td>13424.56</td>\n",
              "      <td>0.00</td>\n",
              "      <td>C779218915</td>\n",
              "      <td>401191.65</td>\n",
              "      <td>500214.12</td>\n",
              "      <td>0</td>\n",
              "      <td>0.0</td>\n",
              "    </tr>\n",
              "    <tr>\n",
              "      <th>3925156</th>\n",
              "      <td>285</td>\n",
              "      <td>CASH_OUT</td>\n",
              "      <td>231724.37</td>\n",
              "      <td>C1233445164</td>\n",
              "      <td>15447.00</td>\n",
              "      <td>0.00</td>\n",
              "      <td>C1284522753</td>\n",
              "      <td>807427.05</td>\n",
              "      <td>1039151.42</td>\n",
              "      <td>0</td>\n",
              "      <td>0.0</td>\n",
              "    </tr>\n",
              "    <tr>\n",
              "      <th>3925157</th>\n",
              "      <td>285</td>\n",
              "      <td>PAYMENT</td>\n",
              "      <td>32.75</td>\n",
              "      <td>C1812302498</td>\n",
              "      <td>10469.00</td>\n",
              "      <td>10436.25</td>\n",
              "      <td>M566756736</td>\n",
              "      <td>0.00</td>\n",
              "      <td>0.00</td>\n",
              "      <td>0</td>\n",
              "      <td>0.0</td>\n",
              "    </tr>\n",
              "    <tr>\n",
              "      <th>3925158</th>\n",
              "      <td>285</td>\n",
              "      <td>DEBIT</td>\n",
              "      <td>1131.26</td>\n",
              "      <td>C1612615622</td>\n",
              "      <td>76794.00</td>\n",
              "      <td>75662.74</td>\n",
              "      <td>C1434173630</td>\n",
              "      <td>1162904.45</td>\n",
              "      <td>1164035.71</td>\n",
              "      <td>0</td>\n",
              "      <td>0.0</td>\n",
              "    </tr>\n",
              "    <tr>\n",
              "      <th>3925159</th>\n",
              "      <td>285</td>\n",
              "      <td>TRANSFER</td>\n",
              "      <td>325725.86</td>\n",
              "      <td>C251498344</td>\n",
              "      <td>75662.74</td>\n",
              "      <td>0.00</td>\n",
              "      <td>C1219144053</td>\n",
              "      <td>1233246.26</td>\n",
              "      <td>1558972.12</td>\n",
              "      <td>0</td>\n",
              "      <td>NaN</td>\n",
              "    </tr>\n",
              "  </tbody>\n",
              "</table>\n",
              "<p>3925160 rows × 11 columns</p>\n",
              "</div>"
            ],
            "text/plain": [
              "         step      type     amount  ... newbalanceDest  isFraud  isFlaggedFraud\n",
              "0           1   PAYMENT    9839.64  ...           0.00        0             0.0\n",
              "1           1   PAYMENT    1864.28  ...           0.00        0             0.0\n",
              "2           1  TRANSFER     181.00  ...           0.00        1             0.0\n",
              "3           1  CASH_OUT     181.00  ...           0.00        1             0.0\n",
              "4           1   PAYMENT   11668.14  ...           0.00        0             0.0\n",
              "...       ...       ...        ...  ...            ...      ...             ...\n",
              "3925155   285  CASH_OUT   99022.47  ...      500214.12        0             0.0\n",
              "3925156   285  CASH_OUT  231724.37  ...     1039151.42        0             0.0\n",
              "3925157   285   PAYMENT      32.75  ...           0.00        0             0.0\n",
              "3925158   285     DEBIT    1131.26  ...     1164035.71        0             0.0\n",
              "3925159   285  TRANSFER  325725.86  ...     1558972.12        0             NaN\n",
              "\n",
              "[3925160 rows x 11 columns]"
            ]
          },
          "metadata": {},
          "execution_count": 47
        }
      ]
    },
    {
      "cell_type": "code",
      "metadata": {
        "colab": {
          "base_uri": "https://localhost:8080/"
        },
        "id": "mXKxObg6AK2s",
        "outputId": "1d0232fe-6f2d-4a41-8d4f-82eed42e930c"
      },
      "source": [
        "#analysing of the data\n",
        "credit_card_fraud['type'].value_counts()"
      ],
      "execution_count": 48,
      "outputs": [
        {
          "output_type": "execute_result",
          "data": {
            "text/plain": [
              "CASH_OUT    1396335\n",
              "PAYMENT     1323163\n",
              "CASH_IN      858500\n",
              "TRANSFER     323139\n",
              "DEBIT         24023\n",
              "Name: type, dtype: int64"
            ]
          },
          "metadata": {},
          "execution_count": 48
        }
      ]
    },
    {
      "cell_type": "code",
      "metadata": {
        "id": "t4vaiEU7kvtO"
      },
      "source": [
        "#creating a dictionary which will map the type columns value to a numerical no.\n",
        "credit_dict ={'PAYMENT':1,\n",
        "             'CASH_OUT':2,\n",
        "             'CASH_IN':3,\n",
        "             'TRANSFER':4,\n",
        "             'DEBIT':5\n",
        "              }"
      ],
      "execution_count": 49,
      "outputs": []
    },
    {
      "cell_type": "code",
      "metadata": {
        "colab": {
          "base_uri": "https://localhost:8080/"
        },
        "id": "UFBL7_ZOlNjB",
        "outputId": "b6597097-42ab-4aae-a757-210b21a2beb6"
      },
      "source": [
        "#mapping the type coulmn with numerical values and adding one more column to dataset\n",
        "credit_card_fraud['valtype']=credit_card_fraud['type'].map(credit_dict)\n",
        "print(credit_card_fraud)"
      ],
      "execution_count": 50,
      "outputs": [
        {
          "output_type": "stream",
          "name": "stdout",
          "text": [
            "         step      type     amount  ... isFraud  isFlaggedFraud  valtype\n",
            "0           1   PAYMENT    9839.64  ...       0             0.0        1\n",
            "1           1   PAYMENT    1864.28  ...       0             0.0        1\n",
            "2           1  TRANSFER     181.00  ...       1             0.0        4\n",
            "3           1  CASH_OUT     181.00  ...       1             0.0        2\n",
            "4           1   PAYMENT   11668.14  ...       0             0.0        1\n",
            "...       ...       ...        ...  ...     ...             ...      ...\n",
            "3925155   285  CASH_OUT   99022.47  ...       0             0.0        2\n",
            "3925156   285  CASH_OUT  231724.37  ...       0             0.0        2\n",
            "3925157   285   PAYMENT      32.75  ...       0             0.0        1\n",
            "3925158   285     DEBIT    1131.26  ...       0             0.0        5\n",
            "3925159   285  TRANSFER  325725.86  ...       0             NaN        4\n",
            "\n",
            "[3925160 rows x 12 columns]\n"
          ]
        }
      ]
    },
    {
      "cell_type": "code",
      "metadata": {
        "colab": {
          "base_uri": "https://localhost:8080/"
        },
        "id": "lMXWJYXVBFaQ",
        "outputId": "20c2aa26-9d7f-4088-b83c-f184b5fbb9e1"
      },
      "source": [
        "#the sum of all null columns in  the entire row\n",
        "credit_card_fraud.isnull().sum()"
      ],
      "execution_count": 51,
      "outputs": [
        {
          "output_type": "execute_result",
          "data": {
            "text/plain": [
              "step              0\n",
              "type              0\n",
              "amount            0\n",
              "nameOrig          0\n",
              "oldbalanceOrg     0\n",
              "newbalanceOrig    0\n",
              "nameDest          0\n",
              "oldbalanceDest    0\n",
              "newbalanceDest    0\n",
              "isFraud           0\n",
              "isFlaggedFraud    1\n",
              "valtype           0\n",
              "dtype: int64"
            ]
          },
          "metadata": {},
          "execution_count": 51
        }
      ]
    },
    {
      "cell_type": "code",
      "metadata": {
        "colab": {
          "base_uri": "https://localhost:8080/"
        },
        "id": "4846or9AAkK_",
        "outputId": "51569b0e-ae3e-462d-9822-b9298a10691a"
      },
      "source": [
        "#getting the info \n",
        "credit_card_fraud.info()"
      ],
      "execution_count": 52,
      "outputs": [
        {
          "output_type": "stream",
          "name": "stdout",
          "text": [
            "<class 'pandas.core.frame.DataFrame'>\n",
            "RangeIndex: 3925160 entries, 0 to 3925159\n",
            "Data columns (total 12 columns):\n",
            " #   Column          Dtype  \n",
            "---  ------          -----  \n",
            " 0   step            int64  \n",
            " 1   type            object \n",
            " 2   amount          float64\n",
            " 3   nameOrig        object \n",
            " 4   oldbalanceOrg   float64\n",
            " 5   newbalanceOrig  float64\n",
            " 6   nameDest        object \n",
            " 7   oldbalanceDest  float64\n",
            " 8   newbalanceDest  float64\n",
            " 9   isFraud         int64  \n",
            " 10  isFlaggedFraud  float64\n",
            " 11  valtype         int64  \n",
            "dtypes: float64(6), int64(3), object(3)\n",
            "memory usage: 359.4+ MB\n"
          ]
        }
      ]
    },
    {
      "cell_type": "code",
      "metadata": {
        "colab": {
          "base_uri": "https://localhost:8080/"
        },
        "id": "vBwmqedVAyKP",
        "outputId": "88a506a3-5caa-4bf9-a3a2-11fcf146cc72"
      },
      "source": [
        "#checking for empty columns on the dataset\n",
        "credit_card_fraud['isFraud'].isnull()"
      ],
      "execution_count": 53,
      "outputs": [
        {
          "output_type": "execute_result",
          "data": {
            "text/plain": [
              "0          False\n",
              "1          False\n",
              "2          False\n",
              "3          False\n",
              "4          False\n",
              "           ...  \n",
              "3925155    False\n",
              "3925156    False\n",
              "3925157    False\n",
              "3925158    False\n",
              "3925159    False\n",
              "Name: isFraud, Length: 3925160, dtype: bool"
            ]
          },
          "metadata": {},
          "execution_count": 53
        }
      ]
    },
    {
      "cell_type": "code",
      "metadata": {
        "id": "1ZTefWKDB8qA",
        "colab": {
          "base_uri": "https://localhost:8080/"
        },
        "outputId": "50ab967a-e765-4451-bbc3-e21b188e1c5b"
      },
      "source": [
        "#Dropping of the nan values \n",
        "#confirming if there is still null values\n",
        "credit_card_fraud.dropna(inplace=True)\n",
        "credit_card_fraud['isFraud'].isnull()\n",
        "\n"
      ],
      "execution_count": 54,
      "outputs": [
        {
          "output_type": "execute_result",
          "data": {
            "text/plain": [
              "0          False\n",
              "1          False\n",
              "2          False\n",
              "3          False\n",
              "4          False\n",
              "           ...  \n",
              "3925154    False\n",
              "3925155    False\n",
              "3925156    False\n",
              "3925157    False\n",
              "3925158    False\n",
              "Name: isFraud, Length: 3925159, dtype: bool"
            ]
          },
          "metadata": {},
          "execution_count": 54
        }
      ]
    },
    {
      "cell_type": "code",
      "metadata": {
        "id": "Pfg4K37YCSzi",
        "colab": {
          "base_uri": "https://localhost:8080/",
          "height": 297
        },
        "outputId": "13c7af82-535e-4ad1-c147-5e2fcb968039"
      },
      "source": [
        "#confirming if there is still null values\n",
        "credit_card_fraud.describe()"
      ],
      "execution_count": 55,
      "outputs": [
        {
          "output_type": "execute_result",
          "data": {
            "text/html": [
              "<div>\n",
              "<style scoped>\n",
              "    .dataframe tbody tr th:only-of-type {\n",
              "        vertical-align: middle;\n",
              "    }\n",
              "\n",
              "    .dataframe tbody tr th {\n",
              "        vertical-align: top;\n",
              "    }\n",
              "\n",
              "    .dataframe thead th {\n",
              "        text-align: right;\n",
              "    }\n",
              "</style>\n",
              "<table border=\"1\" class=\"dataframe\">\n",
              "  <thead>\n",
              "    <tr style=\"text-align: right;\">\n",
              "      <th></th>\n",
              "      <th>step</th>\n",
              "      <th>amount</th>\n",
              "      <th>oldbalanceOrg</th>\n",
              "      <th>newbalanceOrig</th>\n",
              "      <th>oldbalanceDest</th>\n",
              "      <th>newbalanceDest</th>\n",
              "      <th>isFraud</th>\n",
              "      <th>isFlaggedFraud</th>\n",
              "      <th>valtype</th>\n",
              "    </tr>\n",
              "  </thead>\n",
              "  <tbody>\n",
              "    <tr>\n",
              "      <th>count</th>\n",
              "      <td>3.925159e+06</td>\n",
              "      <td>3.925159e+06</td>\n",
              "      <td>3.925159e+06</td>\n",
              "      <td>3.925159e+06</td>\n",
              "      <td>3.925159e+06</td>\n",
              "      <td>3.925159e+06</td>\n",
              "      <td>3.925159e+06</td>\n",
              "      <td>3.925159e+06</td>\n",
              "      <td>3.925159e+06</td>\n",
              "    </tr>\n",
              "    <tr>\n",
              "      <th>mean</th>\n",
              "      <td>1.560678e+02</td>\n",
              "      <td>1.563652e+05</td>\n",
              "      <td>8.378018e+05</td>\n",
              "      <td>8.591490e+05</td>\n",
              "      <td>9.955226e+05</td>\n",
              "      <td>1.098279e+06</td>\n",
              "      <td>8.251895e-04</td>\n",
              "      <td>7.643002e-07</td>\n",
              "      <td>2.064630e+00</td>\n",
              "    </tr>\n",
              "    <tr>\n",
              "      <th>std</th>\n",
              "      <td>8.831974e+01</td>\n",
              "      <td>3.710026e+05</td>\n",
              "      <td>2.903733e+06</td>\n",
              "      <td>2.940205e+06</td>\n",
              "      <td>2.355438e+06</td>\n",
              "      <td>2.491777e+06</td>\n",
              "      <td>2.871426e-02</td>\n",
              "      <td>8.742424e-04</td>\n",
              "      <td>9.674813e-01</td>\n",
              "    </tr>\n",
              "    <tr>\n",
              "      <th>min</th>\n",
              "      <td>1.000000e+00</td>\n",
              "      <td>0.000000e+00</td>\n",
              "      <td>0.000000e+00</td>\n",
              "      <td>0.000000e+00</td>\n",
              "      <td>0.000000e+00</td>\n",
              "      <td>0.000000e+00</td>\n",
              "      <td>0.000000e+00</td>\n",
              "      <td>0.000000e+00</td>\n",
              "      <td>1.000000e+00</td>\n",
              "    </tr>\n",
              "    <tr>\n",
              "      <th>25%</th>\n",
              "      <td>4.400000e+01</td>\n",
              "      <td>1.227627e+04</td>\n",
              "      <td>0.000000e+00</td>\n",
              "      <td>0.000000e+00</td>\n",
              "      <td>0.000000e+00</td>\n",
              "      <td>0.000000e+00</td>\n",
              "      <td>0.000000e+00</td>\n",
              "      <td>0.000000e+00</td>\n",
              "      <td>1.000000e+00</td>\n",
              "    </tr>\n",
              "    <tr>\n",
              "      <th>50%</th>\n",
              "      <td>1.780000e+02</td>\n",
              "      <td>7.429630e+04</td>\n",
              "      <td>1.449400e+04</td>\n",
              "      <td>0.000000e+00</td>\n",
              "      <td>1.356757e+05</td>\n",
              "      <td>2.180544e+05</td>\n",
              "      <td>0.000000e+00</td>\n",
              "      <td>0.000000e+00</td>\n",
              "      <td>2.000000e+00</td>\n",
              "    </tr>\n",
              "    <tr>\n",
              "      <th>75%</th>\n",
              "      <td>2.300000e+02</td>\n",
              "      <td>2.064070e+05</td>\n",
              "      <td>1.099300e+05</td>\n",
              "      <td>1.477750e+05</td>\n",
              "      <td>9.361201e+05</td>\n",
              "      <td>1.107363e+06</td>\n",
              "      <td>0.000000e+00</td>\n",
              "      <td>0.000000e+00</td>\n",
              "      <td>3.000000e+00</td>\n",
              "    </tr>\n",
              "    <tr>\n",
              "      <th>max</th>\n",
              "      <td>2.850000e+02</td>\n",
              "      <td>9.244552e+07</td>\n",
              "      <td>3.893942e+07</td>\n",
              "      <td>3.894623e+07</td>\n",
              "      <td>1.926246e+08</td>\n",
              "      <td>2.493709e+08</td>\n",
              "      <td>1.000000e+00</td>\n",
              "      <td>1.000000e+00</td>\n",
              "      <td>5.000000e+00</td>\n",
              "    </tr>\n",
              "  </tbody>\n",
              "</table>\n",
              "</div>"
            ],
            "text/plain": [
              "               step        amount  ...  isFlaggedFraud       valtype\n",
              "count  3.925159e+06  3.925159e+06  ...    3.925159e+06  3.925159e+06\n",
              "mean   1.560678e+02  1.563652e+05  ...    7.643002e-07  2.064630e+00\n",
              "std    8.831974e+01  3.710026e+05  ...    8.742424e-04  9.674813e-01\n",
              "min    1.000000e+00  0.000000e+00  ...    0.000000e+00  1.000000e+00\n",
              "25%    4.400000e+01  1.227627e+04  ...    0.000000e+00  1.000000e+00\n",
              "50%    1.780000e+02  7.429630e+04  ...    0.000000e+00  2.000000e+00\n",
              "75%    2.300000e+02  2.064070e+05  ...    0.000000e+00  3.000000e+00\n",
              "max    2.850000e+02  9.244552e+07  ...    1.000000e+00  5.000000e+00\n",
              "\n",
              "[8 rows x 9 columns]"
            ]
          },
          "metadata": {},
          "execution_count": 55
        }
      ]
    },
    {
      "cell_type": "code",
      "metadata": {
        "colab": {
          "base_uri": "https://localhost:8080/",
          "height": 419
        },
        "id": "NPbdMHEhCtxT",
        "outputId": "cefc2b6d-1620-4880-a694-7c1e8e3afc14"
      },
      "source": [
        "#confirming the dropped row is successful by checking the number of rows 69857\n",
        "credit_card_fraud"
      ],
      "execution_count": 56,
      "outputs": [
        {
          "output_type": "execute_result",
          "data": {
            "text/html": [
              "<div>\n",
              "<style scoped>\n",
              "    .dataframe tbody tr th:only-of-type {\n",
              "        vertical-align: middle;\n",
              "    }\n",
              "\n",
              "    .dataframe tbody tr th {\n",
              "        vertical-align: top;\n",
              "    }\n",
              "\n",
              "    .dataframe thead th {\n",
              "        text-align: right;\n",
              "    }\n",
              "</style>\n",
              "<table border=\"1\" class=\"dataframe\">\n",
              "  <thead>\n",
              "    <tr style=\"text-align: right;\">\n",
              "      <th></th>\n",
              "      <th>step</th>\n",
              "      <th>type</th>\n",
              "      <th>amount</th>\n",
              "      <th>nameOrig</th>\n",
              "      <th>oldbalanceOrg</th>\n",
              "      <th>newbalanceOrig</th>\n",
              "      <th>nameDest</th>\n",
              "      <th>oldbalanceDest</th>\n",
              "      <th>newbalanceDest</th>\n",
              "      <th>isFraud</th>\n",
              "      <th>isFlaggedFraud</th>\n",
              "      <th>valtype</th>\n",
              "    </tr>\n",
              "  </thead>\n",
              "  <tbody>\n",
              "    <tr>\n",
              "      <th>0</th>\n",
              "      <td>1</td>\n",
              "      <td>PAYMENT</td>\n",
              "      <td>9839.64</td>\n",
              "      <td>C1231006815</td>\n",
              "      <td>170136.00</td>\n",
              "      <td>160296.36</td>\n",
              "      <td>M1979787155</td>\n",
              "      <td>0.00</td>\n",
              "      <td>0.00</td>\n",
              "      <td>0</td>\n",
              "      <td>0.0</td>\n",
              "      <td>1</td>\n",
              "    </tr>\n",
              "    <tr>\n",
              "      <th>1</th>\n",
              "      <td>1</td>\n",
              "      <td>PAYMENT</td>\n",
              "      <td>1864.28</td>\n",
              "      <td>C1666544295</td>\n",
              "      <td>21249.00</td>\n",
              "      <td>19384.72</td>\n",
              "      <td>M2044282225</td>\n",
              "      <td>0.00</td>\n",
              "      <td>0.00</td>\n",
              "      <td>0</td>\n",
              "      <td>0.0</td>\n",
              "      <td>1</td>\n",
              "    </tr>\n",
              "    <tr>\n",
              "      <th>2</th>\n",
              "      <td>1</td>\n",
              "      <td>TRANSFER</td>\n",
              "      <td>181.00</td>\n",
              "      <td>C1305486145</td>\n",
              "      <td>181.00</td>\n",
              "      <td>0.00</td>\n",
              "      <td>C553264065</td>\n",
              "      <td>0.00</td>\n",
              "      <td>0.00</td>\n",
              "      <td>1</td>\n",
              "      <td>0.0</td>\n",
              "      <td>4</td>\n",
              "    </tr>\n",
              "    <tr>\n",
              "      <th>3</th>\n",
              "      <td>1</td>\n",
              "      <td>CASH_OUT</td>\n",
              "      <td>181.00</td>\n",
              "      <td>C840083671</td>\n",
              "      <td>181.00</td>\n",
              "      <td>0.00</td>\n",
              "      <td>C38997010</td>\n",
              "      <td>21182.00</td>\n",
              "      <td>0.00</td>\n",
              "      <td>1</td>\n",
              "      <td>0.0</td>\n",
              "      <td>2</td>\n",
              "    </tr>\n",
              "    <tr>\n",
              "      <th>4</th>\n",
              "      <td>1</td>\n",
              "      <td>PAYMENT</td>\n",
              "      <td>11668.14</td>\n",
              "      <td>C2048537720</td>\n",
              "      <td>41554.00</td>\n",
              "      <td>29885.86</td>\n",
              "      <td>M1230701703</td>\n",
              "      <td>0.00</td>\n",
              "      <td>0.00</td>\n",
              "      <td>0</td>\n",
              "      <td>0.0</td>\n",
              "      <td>1</td>\n",
              "    </tr>\n",
              "    <tr>\n",
              "      <th>...</th>\n",
              "      <td>...</td>\n",
              "      <td>...</td>\n",
              "      <td>...</td>\n",
              "      <td>...</td>\n",
              "      <td>...</td>\n",
              "      <td>...</td>\n",
              "      <td>...</td>\n",
              "      <td>...</td>\n",
              "      <td>...</td>\n",
              "      <td>...</td>\n",
              "      <td>...</td>\n",
              "      <td>...</td>\n",
              "    </tr>\n",
              "    <tr>\n",
              "      <th>3925154</th>\n",
              "      <td>285</td>\n",
              "      <td>PAYMENT</td>\n",
              "      <td>11940.44</td>\n",
              "      <td>C496436856</td>\n",
              "      <td>25365.00</td>\n",
              "      <td>13424.56</td>\n",
              "      <td>M1704264352</td>\n",
              "      <td>0.00</td>\n",
              "      <td>0.00</td>\n",
              "      <td>0</td>\n",
              "      <td>0.0</td>\n",
              "      <td>1</td>\n",
              "    </tr>\n",
              "    <tr>\n",
              "      <th>3925155</th>\n",
              "      <td>285</td>\n",
              "      <td>CASH_OUT</td>\n",
              "      <td>99022.47</td>\n",
              "      <td>C551299430</td>\n",
              "      <td>13424.56</td>\n",
              "      <td>0.00</td>\n",
              "      <td>C779218915</td>\n",
              "      <td>401191.65</td>\n",
              "      <td>500214.12</td>\n",
              "      <td>0</td>\n",
              "      <td>0.0</td>\n",
              "      <td>2</td>\n",
              "    </tr>\n",
              "    <tr>\n",
              "      <th>3925156</th>\n",
              "      <td>285</td>\n",
              "      <td>CASH_OUT</td>\n",
              "      <td>231724.37</td>\n",
              "      <td>C1233445164</td>\n",
              "      <td>15447.00</td>\n",
              "      <td>0.00</td>\n",
              "      <td>C1284522753</td>\n",
              "      <td>807427.05</td>\n",
              "      <td>1039151.42</td>\n",
              "      <td>0</td>\n",
              "      <td>0.0</td>\n",
              "      <td>2</td>\n",
              "    </tr>\n",
              "    <tr>\n",
              "      <th>3925157</th>\n",
              "      <td>285</td>\n",
              "      <td>PAYMENT</td>\n",
              "      <td>32.75</td>\n",
              "      <td>C1812302498</td>\n",
              "      <td>10469.00</td>\n",
              "      <td>10436.25</td>\n",
              "      <td>M566756736</td>\n",
              "      <td>0.00</td>\n",
              "      <td>0.00</td>\n",
              "      <td>0</td>\n",
              "      <td>0.0</td>\n",
              "      <td>1</td>\n",
              "    </tr>\n",
              "    <tr>\n",
              "      <th>3925158</th>\n",
              "      <td>285</td>\n",
              "      <td>DEBIT</td>\n",
              "      <td>1131.26</td>\n",
              "      <td>C1612615622</td>\n",
              "      <td>76794.00</td>\n",
              "      <td>75662.74</td>\n",
              "      <td>C1434173630</td>\n",
              "      <td>1162904.45</td>\n",
              "      <td>1164035.71</td>\n",
              "      <td>0</td>\n",
              "      <td>0.0</td>\n",
              "      <td>5</td>\n",
              "    </tr>\n",
              "  </tbody>\n",
              "</table>\n",
              "<p>3925159 rows × 12 columns</p>\n",
              "</div>"
            ],
            "text/plain": [
              "         step      type     amount  ... isFraud  isFlaggedFraud  valtype\n",
              "0           1   PAYMENT    9839.64  ...       0             0.0        1\n",
              "1           1   PAYMENT    1864.28  ...       0             0.0        1\n",
              "2           1  TRANSFER     181.00  ...       1             0.0        4\n",
              "3           1  CASH_OUT     181.00  ...       1             0.0        2\n",
              "4           1   PAYMENT   11668.14  ...       0             0.0        1\n",
              "...       ...       ...        ...  ...     ...             ...      ...\n",
              "3925154   285   PAYMENT   11940.44  ...       0             0.0        1\n",
              "3925155   285  CASH_OUT   99022.47  ...       0             0.0        2\n",
              "3925156   285  CASH_OUT  231724.37  ...       0             0.0        2\n",
              "3925157   285   PAYMENT      32.75  ...       0             0.0        1\n",
              "3925158   285     DEBIT    1131.26  ...       0             0.0        5\n",
              "\n",
              "[3925159 rows x 12 columns]"
            ]
          },
          "metadata": {},
          "execution_count": 56
        }
      ]
    },
    {
      "cell_type": "code",
      "metadata": {
        "id": "C2Hd9-PZC0Ft"
      },
      "source": [
        "#separating data for analysis\n",
        "legitTransaction = credit_card_fraud[credit_card_fraud['isFraud']==0]\n",
        "fradTransaction = credit_card_fraud[credit_card_fraud['isFraud']==1]"
      ],
      "execution_count": 57,
      "outputs": []
    },
    {
      "cell_type": "code",
      "metadata": {
        "colab": {
          "base_uri": "https://localhost:8080/"
        },
        "id": "Q-532WZmDRV3",
        "outputId": "2634c9c4-615f-43ff-95f7-6e90a1e53c08"
      },
      "source": [
        "#reading the transations\n",
        "print(legitTransaction)\n",
        "print(fradTransaction)"
      ],
      "execution_count": 58,
      "outputs": [
        {
          "output_type": "stream",
          "name": "stdout",
          "text": [
            "         step      type     amount  ... isFraud  isFlaggedFraud  valtype\n",
            "0           1   PAYMENT    9839.64  ...       0             0.0        1\n",
            "1           1   PAYMENT    1864.28  ...       0             0.0        1\n",
            "4           1   PAYMENT   11668.14  ...       0             0.0        1\n",
            "5           1   PAYMENT    7817.71  ...       0             0.0        1\n",
            "6           1   PAYMENT    7107.77  ...       0             0.0        1\n",
            "...       ...       ...        ...  ...     ...             ...      ...\n",
            "3925154   285   PAYMENT   11940.44  ...       0             0.0        1\n",
            "3925155   285  CASH_OUT   99022.47  ...       0             0.0        2\n",
            "3925156   285  CASH_OUT  231724.37  ...       0             0.0        2\n",
            "3925157   285   PAYMENT      32.75  ...       0             0.0        1\n",
            "3925158   285     DEBIT    1131.26  ...       0             0.0        5\n",
            "\n",
            "[3921920 rows x 12 columns]\n",
            "         step      type      amount  ... isFraud  isFlaggedFraud  valtype\n",
            "2           1  TRANSFER      181.00  ...       1             0.0        4\n",
            "3           1  CASH_OUT      181.00  ...       1             0.0        2\n",
            "251         1  TRANSFER     2806.00  ...       1             0.0        4\n",
            "252         1  CASH_OUT     2806.00  ...       1             0.0        2\n",
            "680         1  TRANSFER    20128.00  ...       1             0.0        4\n",
            "...       ...       ...         ...  ...     ...             ...      ...\n",
            "3916155   284  CASH_OUT   498747.55  ...       1             0.0        2\n",
            "3922753   285  TRANSFER  4452001.07  ...       1             0.0        4\n",
            "3922754   285  CASH_OUT  4452001.07  ...       1             0.0        2\n",
            "3924881   285  TRANSFER   752639.78  ...       1             0.0        4\n",
            "3924882   285  CASH_OUT   752639.78  ...       1             0.0        2\n",
            "\n",
            "[3239 rows x 12 columns]\n"
          ]
        }
      ]
    },
    {
      "cell_type": "code",
      "metadata": {
        "colab": {
          "base_uri": "https://localhost:8080/"
        },
        "id": "XmrK3AvCDYqO",
        "outputId": "d86914e4-1a29-4511-9b0c-433fad737939"
      },
      "source": [
        "#statistical measures of data\n",
        "legitTransaction['amount'].describe()"
      ],
      "execution_count": 59,
      "outputs": [
        {
          "output_type": "execute_result",
          "data": {
            "text/plain": [
              "count    3.921920e+06\n",
              "mean     1.553862e+05\n",
              "std      3.641820e+05\n",
              "min      2.000000e-02\n",
              "25%      1.226356e+04\n",
              "50%      7.417395e+04\n",
              "75%      2.061832e+05\n",
              "max      9.244552e+07\n",
              "Name: amount, dtype: float64"
            ]
          },
          "metadata": {},
          "execution_count": 59
        }
      ]
    },
    {
      "cell_type": "code",
      "metadata": {
        "colab": {
          "base_uri": "https://localhost:8080/"
        },
        "id": "GkyfSH9ADtpz",
        "outputId": "383050a4-bea6-42af-e78b-1569b711fa07"
      },
      "source": [
        "#statistical measures of data\n",
        "legitTransaction['amount'].describe()"
      ],
      "execution_count": 60,
      "outputs": [
        {
          "output_type": "execute_result",
          "data": {
            "text/plain": [
              "count    3.921920e+06\n",
              "mean     1.553862e+05\n",
              "std      3.641820e+05\n",
              "min      2.000000e-02\n",
              "25%      1.226356e+04\n",
              "50%      7.417395e+04\n",
              "75%      2.061832e+05\n",
              "max      9.244552e+07\n",
              "Name: amount, dtype: float64"
            ]
          },
          "metadata": {},
          "execution_count": 60
        }
      ]
    },
    {
      "cell_type": "code",
      "metadata": {
        "colab": {
          "base_uri": "https://localhost:8080/"
        },
        "id": "oekOzdr-EDyw",
        "outputId": "be02dd52-1bf0-4755-ea20-b413bd0a0a07"
      },
      "source": [
        "#transaction counts for legit and fraud \n",
        "legitTransaction.count()"
      ],
      "execution_count": 61,
      "outputs": [
        {
          "output_type": "execute_result",
          "data": {
            "text/plain": [
              "step              3921920\n",
              "type              3921920\n",
              "amount            3921920\n",
              "nameOrig          3921920\n",
              "oldbalanceOrg     3921920\n",
              "newbalanceOrig    3921920\n",
              "nameDest          3921920\n",
              "oldbalanceDest    3921920\n",
              "newbalanceDest    3921920\n",
              "isFraud           3921920\n",
              "isFlaggedFraud    3921920\n",
              "valtype           3921920\n",
              "dtype: int64"
            ]
          },
          "metadata": {},
          "execution_count": 61
        }
      ]
    },
    {
      "cell_type": "code",
      "metadata": {
        "colab": {
          "base_uri": "https://localhost:8080/"
        },
        "id": "BDcGueP-Eeiy",
        "outputId": "199fe248-a24b-488f-cf4a-5bc1fe2ae602"
      },
      "source": [
        "fradTransaction.count()"
      ],
      "execution_count": 62,
      "outputs": [
        {
          "output_type": "execute_result",
          "data": {
            "text/plain": [
              "step              3239\n",
              "type              3239\n",
              "amount            3239\n",
              "nameOrig          3239\n",
              "oldbalanceOrg     3239\n",
              "newbalanceOrig    3239\n",
              "nameDest          3239\n",
              "oldbalanceDest    3239\n",
              "newbalanceDest    3239\n",
              "isFraud           3239\n",
              "isFlaggedFraud    3239\n",
              "valtype           3239\n",
              "dtype: int64"
            ]
          },
          "metadata": {},
          "execution_count": 62
        }
      ]
    },
    {
      "cell_type": "code",
      "metadata": {
        "id": "u3yml8xQEjJg"
      },
      "source": [
        "#Sample dataset containing similar distribution of legit transacton and the fraudent\n",
        "#legit transactions are 3921920\n",
        "#fradulent transactions 3239\n",
        "\n",
        "legitTransactionSample=legitTransaction.sample(n=3239)"
      ],
      "execution_count": 81,
      "outputs": []
    },
    {
      "cell_type": "code",
      "metadata": {
        "colab": {
          "base_uri": "https://localhost:8080/"
        },
        "id": "c7RzsHY-EtB4",
        "outputId": "c59cdfc5-af15-43c3-fab4-7a06e929e14a"
      },
      "source": [
        "print(legitTransactionSample.count())\n",
        "print(fradTransaction.count())\n",
        "print(legitTransaction.columns)\n"
      ],
      "execution_count": 82,
      "outputs": [
        {
          "output_type": "stream",
          "name": "stdout",
          "text": [
            "step              3239\n",
            "type              3239\n",
            "amount            3239\n",
            "nameOrig          3239\n",
            "oldbalanceOrg     3239\n",
            "newbalanceOrig    3239\n",
            "nameDest          3239\n",
            "oldbalanceDest    3239\n",
            "newbalanceDest    3239\n",
            "isFraud           3239\n",
            "isFlaggedFraud    3239\n",
            "valtype           3239\n",
            "dtype: int64\n",
            "step              3239\n",
            "type              3239\n",
            "amount            3239\n",
            "nameOrig          3239\n",
            "oldbalanceOrg     3239\n",
            "newbalanceOrig    3239\n",
            "nameDest          3239\n",
            "oldbalanceDest    3239\n",
            "newbalanceDest    3239\n",
            "isFraud           3239\n",
            "isFlaggedFraud    3239\n",
            "valtype           3239\n",
            "dtype: int64\n",
            "Index(['step', 'type', 'amount', 'nameOrig', 'oldbalanceOrg', 'newbalanceOrig',\n",
            "       'nameDest', 'oldbalanceDest', 'newbalanceDest', 'isFraud',\n",
            "       'isFlaggedFraud', 'valtype'],\n",
            "      dtype='object')\n"
          ]
        }
      ]
    },
    {
      "cell_type": "code",
      "metadata": {
        "colab": {
          "base_uri": "https://localhost:8080/",
          "height": 419
        },
        "id": "lzeGtzMVExJr",
        "outputId": "c52037d6-e7f9-4d7b-8b8d-b919c0b7d0ce"
      },
      "source": [
        "credit_card_fraud\n"
      ],
      "execution_count": 83,
      "outputs": [
        {
          "output_type": "execute_result",
          "data": {
            "text/html": [
              "<div>\n",
              "<style scoped>\n",
              "    .dataframe tbody tr th:only-of-type {\n",
              "        vertical-align: middle;\n",
              "    }\n",
              "\n",
              "    .dataframe tbody tr th {\n",
              "        vertical-align: top;\n",
              "    }\n",
              "\n",
              "    .dataframe thead th {\n",
              "        text-align: right;\n",
              "    }\n",
              "</style>\n",
              "<table border=\"1\" class=\"dataframe\">\n",
              "  <thead>\n",
              "    <tr style=\"text-align: right;\">\n",
              "      <th></th>\n",
              "      <th>step</th>\n",
              "      <th>type</th>\n",
              "      <th>amount</th>\n",
              "      <th>nameOrig</th>\n",
              "      <th>oldbalanceOrg</th>\n",
              "      <th>newbalanceOrig</th>\n",
              "      <th>nameDest</th>\n",
              "      <th>oldbalanceDest</th>\n",
              "      <th>newbalanceDest</th>\n",
              "      <th>isFraud</th>\n",
              "      <th>isFlaggedFraud</th>\n",
              "      <th>valtype</th>\n",
              "    </tr>\n",
              "  </thead>\n",
              "  <tbody>\n",
              "    <tr>\n",
              "      <th>0</th>\n",
              "      <td>1</td>\n",
              "      <td>PAYMENT</td>\n",
              "      <td>9839.64</td>\n",
              "      <td>C1231006815</td>\n",
              "      <td>170136.00</td>\n",
              "      <td>160296.36</td>\n",
              "      <td>M1979787155</td>\n",
              "      <td>0.00</td>\n",
              "      <td>0.00</td>\n",
              "      <td>0</td>\n",
              "      <td>0.0</td>\n",
              "      <td>1</td>\n",
              "    </tr>\n",
              "    <tr>\n",
              "      <th>1</th>\n",
              "      <td>1</td>\n",
              "      <td>PAYMENT</td>\n",
              "      <td>1864.28</td>\n",
              "      <td>C1666544295</td>\n",
              "      <td>21249.00</td>\n",
              "      <td>19384.72</td>\n",
              "      <td>M2044282225</td>\n",
              "      <td>0.00</td>\n",
              "      <td>0.00</td>\n",
              "      <td>0</td>\n",
              "      <td>0.0</td>\n",
              "      <td>1</td>\n",
              "    </tr>\n",
              "    <tr>\n",
              "      <th>2</th>\n",
              "      <td>1</td>\n",
              "      <td>TRANSFER</td>\n",
              "      <td>181.00</td>\n",
              "      <td>C1305486145</td>\n",
              "      <td>181.00</td>\n",
              "      <td>0.00</td>\n",
              "      <td>C553264065</td>\n",
              "      <td>0.00</td>\n",
              "      <td>0.00</td>\n",
              "      <td>1</td>\n",
              "      <td>0.0</td>\n",
              "      <td>4</td>\n",
              "    </tr>\n",
              "    <tr>\n",
              "      <th>3</th>\n",
              "      <td>1</td>\n",
              "      <td>CASH_OUT</td>\n",
              "      <td>181.00</td>\n",
              "      <td>C840083671</td>\n",
              "      <td>181.00</td>\n",
              "      <td>0.00</td>\n",
              "      <td>C38997010</td>\n",
              "      <td>21182.00</td>\n",
              "      <td>0.00</td>\n",
              "      <td>1</td>\n",
              "      <td>0.0</td>\n",
              "      <td>2</td>\n",
              "    </tr>\n",
              "    <tr>\n",
              "      <th>4</th>\n",
              "      <td>1</td>\n",
              "      <td>PAYMENT</td>\n",
              "      <td>11668.14</td>\n",
              "      <td>C2048537720</td>\n",
              "      <td>41554.00</td>\n",
              "      <td>29885.86</td>\n",
              "      <td>M1230701703</td>\n",
              "      <td>0.00</td>\n",
              "      <td>0.00</td>\n",
              "      <td>0</td>\n",
              "      <td>0.0</td>\n",
              "      <td>1</td>\n",
              "    </tr>\n",
              "    <tr>\n",
              "      <th>...</th>\n",
              "      <td>...</td>\n",
              "      <td>...</td>\n",
              "      <td>...</td>\n",
              "      <td>...</td>\n",
              "      <td>...</td>\n",
              "      <td>...</td>\n",
              "      <td>...</td>\n",
              "      <td>...</td>\n",
              "      <td>...</td>\n",
              "      <td>...</td>\n",
              "      <td>...</td>\n",
              "      <td>...</td>\n",
              "    </tr>\n",
              "    <tr>\n",
              "      <th>3925154</th>\n",
              "      <td>285</td>\n",
              "      <td>PAYMENT</td>\n",
              "      <td>11940.44</td>\n",
              "      <td>C496436856</td>\n",
              "      <td>25365.00</td>\n",
              "      <td>13424.56</td>\n",
              "      <td>M1704264352</td>\n",
              "      <td>0.00</td>\n",
              "      <td>0.00</td>\n",
              "      <td>0</td>\n",
              "      <td>0.0</td>\n",
              "      <td>1</td>\n",
              "    </tr>\n",
              "    <tr>\n",
              "      <th>3925155</th>\n",
              "      <td>285</td>\n",
              "      <td>CASH_OUT</td>\n",
              "      <td>99022.47</td>\n",
              "      <td>C551299430</td>\n",
              "      <td>13424.56</td>\n",
              "      <td>0.00</td>\n",
              "      <td>C779218915</td>\n",
              "      <td>401191.65</td>\n",
              "      <td>500214.12</td>\n",
              "      <td>0</td>\n",
              "      <td>0.0</td>\n",
              "      <td>2</td>\n",
              "    </tr>\n",
              "    <tr>\n",
              "      <th>3925156</th>\n",
              "      <td>285</td>\n",
              "      <td>CASH_OUT</td>\n",
              "      <td>231724.37</td>\n",
              "      <td>C1233445164</td>\n",
              "      <td>15447.00</td>\n",
              "      <td>0.00</td>\n",
              "      <td>C1284522753</td>\n",
              "      <td>807427.05</td>\n",
              "      <td>1039151.42</td>\n",
              "      <td>0</td>\n",
              "      <td>0.0</td>\n",
              "      <td>2</td>\n",
              "    </tr>\n",
              "    <tr>\n",
              "      <th>3925157</th>\n",
              "      <td>285</td>\n",
              "      <td>PAYMENT</td>\n",
              "      <td>32.75</td>\n",
              "      <td>C1812302498</td>\n",
              "      <td>10469.00</td>\n",
              "      <td>10436.25</td>\n",
              "      <td>M566756736</td>\n",
              "      <td>0.00</td>\n",
              "      <td>0.00</td>\n",
              "      <td>0</td>\n",
              "      <td>0.0</td>\n",
              "      <td>1</td>\n",
              "    </tr>\n",
              "    <tr>\n",
              "      <th>3925158</th>\n",
              "      <td>285</td>\n",
              "      <td>DEBIT</td>\n",
              "      <td>1131.26</td>\n",
              "      <td>C1612615622</td>\n",
              "      <td>76794.00</td>\n",
              "      <td>75662.74</td>\n",
              "      <td>C1434173630</td>\n",
              "      <td>1162904.45</td>\n",
              "      <td>1164035.71</td>\n",
              "      <td>0</td>\n",
              "      <td>0.0</td>\n",
              "      <td>5</td>\n",
              "    </tr>\n",
              "  </tbody>\n",
              "</table>\n",
              "<p>3925159 rows × 12 columns</p>\n",
              "</div>"
            ],
            "text/plain": [
              "         step      type     amount  ... isFraud  isFlaggedFraud  valtype\n",
              "0           1   PAYMENT    9839.64  ...       0             0.0        1\n",
              "1           1   PAYMENT    1864.28  ...       0             0.0        1\n",
              "2           1  TRANSFER     181.00  ...       1             0.0        4\n",
              "3           1  CASH_OUT     181.00  ...       1             0.0        2\n",
              "4           1   PAYMENT   11668.14  ...       0             0.0        1\n",
              "...       ...       ...        ...  ...     ...             ...      ...\n",
              "3925154   285   PAYMENT   11940.44  ...       0             0.0        1\n",
              "3925155   285  CASH_OUT   99022.47  ...       0             0.0        2\n",
              "3925156   285  CASH_OUT  231724.37  ...       0             0.0        2\n",
              "3925157   285   PAYMENT      32.75  ...       0             0.0        1\n",
              "3925158   285     DEBIT    1131.26  ...       0             0.0        5\n",
              "\n",
              "[3925159 rows x 12 columns]"
            ]
          },
          "metadata": {},
          "execution_count": 83
        }
      ]
    },
    {
      "cell_type": "code",
      "metadata": {
        "id": "eLPARUehE3Pb"
      },
      "source": [
        "#Concat two dataframes\n",
        "new_CreditCard=pd.concat([legitTransactionSample,fradTransaction],axis=0)"
      ],
      "execution_count": 84,
      "outputs": []
    },
    {
      "cell_type": "code",
      "metadata": {
        "colab": {
          "base_uri": "https://localhost:8080/",
          "height": 419
        },
        "id": "ogkIV1QTFKTL",
        "outputId": "cc3a943e-0c43-44df-8637-2b0f743e1862"
      },
      "source": [
        "#reading the new dataframe\n",
        "new_CreditCard"
      ],
      "execution_count": 85,
      "outputs": [
        {
          "output_type": "execute_result",
          "data": {
            "text/html": [
              "<div>\n",
              "<style scoped>\n",
              "    .dataframe tbody tr th:only-of-type {\n",
              "        vertical-align: middle;\n",
              "    }\n",
              "\n",
              "    .dataframe tbody tr th {\n",
              "        vertical-align: top;\n",
              "    }\n",
              "\n",
              "    .dataframe thead th {\n",
              "        text-align: right;\n",
              "    }\n",
              "</style>\n",
              "<table border=\"1\" class=\"dataframe\">\n",
              "  <thead>\n",
              "    <tr style=\"text-align: right;\">\n",
              "      <th></th>\n",
              "      <th>step</th>\n",
              "      <th>type</th>\n",
              "      <th>amount</th>\n",
              "      <th>nameOrig</th>\n",
              "      <th>oldbalanceOrg</th>\n",
              "      <th>newbalanceOrig</th>\n",
              "      <th>nameDest</th>\n",
              "      <th>oldbalanceDest</th>\n",
              "      <th>newbalanceDest</th>\n",
              "      <th>isFraud</th>\n",
              "      <th>isFlaggedFraud</th>\n",
              "      <th>valtype</th>\n",
              "    </tr>\n",
              "  </thead>\n",
              "  <tbody>\n",
              "    <tr>\n",
              "      <th>1900065</th>\n",
              "      <td>165</td>\n",
              "      <td>CASH_OUT</td>\n",
              "      <td>68020.74</td>\n",
              "      <td>C1824644492</td>\n",
              "      <td>0.00</td>\n",
              "      <td>0.0</td>\n",
              "      <td>C41028788</td>\n",
              "      <td>9286804.67</td>\n",
              "      <td>9195758.28</td>\n",
              "      <td>0</td>\n",
              "      <td>0.0</td>\n",
              "      <td>2</td>\n",
              "    </tr>\n",
              "    <tr>\n",
              "      <th>3867098</th>\n",
              "      <td>283</td>\n",
              "      <td>CASH_OUT</td>\n",
              "      <td>65797.06</td>\n",
              "      <td>C1683555230</td>\n",
              "      <td>0.00</td>\n",
              "      <td>0.0</td>\n",
              "      <td>C135603139</td>\n",
              "      <td>416808.74</td>\n",
              "      <td>482605.81</td>\n",
              "      <td>0</td>\n",
              "      <td>0.0</td>\n",
              "      <td>2</td>\n",
              "    </tr>\n",
              "    <tr>\n",
              "      <th>3064379</th>\n",
              "      <td>234</td>\n",
              "      <td>PAYMENT</td>\n",
              "      <td>19712.93</td>\n",
              "      <td>C2062725450</td>\n",
              "      <td>0.00</td>\n",
              "      <td>0.0</td>\n",
              "      <td>M1348804289</td>\n",
              "      <td>0.00</td>\n",
              "      <td>0.00</td>\n",
              "      <td>0</td>\n",
              "      <td>0.0</td>\n",
              "      <td>1</td>\n",
              "    </tr>\n",
              "    <tr>\n",
              "      <th>420666</th>\n",
              "      <td>18</td>\n",
              "      <td>CASH_OUT</td>\n",
              "      <td>100409.90</td>\n",
              "      <td>C560673035</td>\n",
              "      <td>0.00</td>\n",
              "      <td>0.0</td>\n",
              "      <td>C126452464</td>\n",
              "      <td>630146.45</td>\n",
              "      <td>730556.35</td>\n",
              "      <td>0</td>\n",
              "      <td>0.0</td>\n",
              "      <td>2</td>\n",
              "    </tr>\n",
              "    <tr>\n",
              "      <th>449419</th>\n",
              "      <td>19</td>\n",
              "      <td>PAYMENT</td>\n",
              "      <td>9833.01</td>\n",
              "      <td>C1052239875</td>\n",
              "      <td>0.00</td>\n",
              "      <td>0.0</td>\n",
              "      <td>M1263036485</td>\n",
              "      <td>0.00</td>\n",
              "      <td>0.00</td>\n",
              "      <td>0</td>\n",
              "      <td>0.0</td>\n",
              "      <td>1</td>\n",
              "    </tr>\n",
              "    <tr>\n",
              "      <th>...</th>\n",
              "      <td>...</td>\n",
              "      <td>...</td>\n",
              "      <td>...</td>\n",
              "      <td>...</td>\n",
              "      <td>...</td>\n",
              "      <td>...</td>\n",
              "      <td>...</td>\n",
              "      <td>...</td>\n",
              "      <td>...</td>\n",
              "      <td>...</td>\n",
              "      <td>...</td>\n",
              "      <td>...</td>\n",
              "    </tr>\n",
              "    <tr>\n",
              "      <th>3916155</th>\n",
              "      <td>284</td>\n",
              "      <td>CASH_OUT</td>\n",
              "      <td>498747.55</td>\n",
              "      <td>C1268687725</td>\n",
              "      <td>498747.55</td>\n",
              "      <td>0.0</td>\n",
              "      <td>C1524935695</td>\n",
              "      <td>0.00</td>\n",
              "      <td>498747.55</td>\n",
              "      <td>1</td>\n",
              "      <td>0.0</td>\n",
              "      <td>2</td>\n",
              "    </tr>\n",
              "    <tr>\n",
              "      <th>3922753</th>\n",
              "      <td>285</td>\n",
              "      <td>TRANSFER</td>\n",
              "      <td>4452001.07</td>\n",
              "      <td>C1140883229</td>\n",
              "      <td>4452001.07</td>\n",
              "      <td>0.0</td>\n",
              "      <td>C428749233</td>\n",
              "      <td>0.00</td>\n",
              "      <td>0.00</td>\n",
              "      <td>1</td>\n",
              "      <td>0.0</td>\n",
              "      <td>4</td>\n",
              "    </tr>\n",
              "    <tr>\n",
              "      <th>3922754</th>\n",
              "      <td>285</td>\n",
              "      <td>CASH_OUT</td>\n",
              "      <td>4452001.07</td>\n",
              "      <td>C1510732148</td>\n",
              "      <td>4452001.07</td>\n",
              "      <td>0.0</td>\n",
              "      <td>C988553635</td>\n",
              "      <td>2899087.80</td>\n",
              "      <td>7351088.87</td>\n",
              "      <td>1</td>\n",
              "      <td>0.0</td>\n",
              "      <td>2</td>\n",
              "    </tr>\n",
              "    <tr>\n",
              "      <th>3924881</th>\n",
              "      <td>285</td>\n",
              "      <td>TRANSFER</td>\n",
              "      <td>752639.78</td>\n",
              "      <td>C1934555881</td>\n",
              "      <td>752639.78</td>\n",
              "      <td>0.0</td>\n",
              "      <td>C13171795</td>\n",
              "      <td>0.00</td>\n",
              "      <td>0.00</td>\n",
              "      <td>1</td>\n",
              "      <td>0.0</td>\n",
              "      <td>4</td>\n",
              "    </tr>\n",
              "    <tr>\n",
              "      <th>3924882</th>\n",
              "      <td>285</td>\n",
              "      <td>CASH_OUT</td>\n",
              "      <td>752639.78</td>\n",
              "      <td>C1541138179</td>\n",
              "      <td>752639.78</td>\n",
              "      <td>0.0</td>\n",
              "      <td>C810413951</td>\n",
              "      <td>290612.69</td>\n",
              "      <td>1043252.47</td>\n",
              "      <td>1</td>\n",
              "      <td>0.0</td>\n",
              "      <td>2</td>\n",
              "    </tr>\n",
              "  </tbody>\n",
              "</table>\n",
              "<p>6478 rows × 12 columns</p>\n",
              "</div>"
            ],
            "text/plain": [
              "         step      type      amount  ... isFraud  isFlaggedFraud  valtype\n",
              "1900065   165  CASH_OUT    68020.74  ...       0             0.0        2\n",
              "3867098   283  CASH_OUT    65797.06  ...       0             0.0        2\n",
              "3064379   234   PAYMENT    19712.93  ...       0             0.0        1\n",
              "420666     18  CASH_OUT   100409.90  ...       0             0.0        2\n",
              "449419     19   PAYMENT     9833.01  ...       0             0.0        1\n",
              "...       ...       ...         ...  ...     ...             ...      ...\n",
              "3916155   284  CASH_OUT   498747.55  ...       1             0.0        2\n",
              "3922753   285  TRANSFER  4452001.07  ...       1             0.0        4\n",
              "3922754   285  CASH_OUT  4452001.07  ...       1             0.0        2\n",
              "3924881   285  TRANSFER   752639.78  ...       1             0.0        4\n",
              "3924882   285  CASH_OUT   752639.78  ...       1             0.0        2\n",
              "\n",
              "[6478 rows x 12 columns]"
            ]
          },
          "metadata": {},
          "execution_count": 85
        }
      ]
    },
    {
      "cell_type": "code",
      "metadata": {
        "colab": {
          "base_uri": "https://localhost:8080/"
        },
        "id": "bm_tvaoXFOUR",
        "outputId": "25b73c92-19e1-471b-bd25-01f274190d85"
      },
      "source": [
        "#confirming the change in statistical distribution\n",
        "new_CreditCard['type'].value_counts()"
      ],
      "execution_count": 86,
      "outputs": [
        {
          "output_type": "execute_result",
          "data": {
            "text/plain": [
              "CASH_OUT    2766\n",
              "TRANSFER    1863\n",
              "PAYMENT     1096\n",
              "CASH_IN      733\n",
              "DEBIT         20\n",
              "Name: type, dtype: int64"
            ]
          },
          "metadata": {},
          "execution_count": 86
        }
      ]
    },
    {
      "cell_type": "code",
      "metadata": {
        "colab": {
          "base_uri": "https://localhost:8080/"
        },
        "id": "BOV-MZr0FeHW",
        "outputId": "ff0c8fce-9594-4467-80b6-4ec6c5c9a9a4"
      },
      "source": [
        "new_CreditCard.info()"
      ],
      "execution_count": 87,
      "outputs": [
        {
          "output_type": "stream",
          "name": "stdout",
          "text": [
            "<class 'pandas.core.frame.DataFrame'>\n",
            "Int64Index: 6478 entries, 1900065 to 3924882\n",
            "Data columns (total 12 columns):\n",
            " #   Column          Non-Null Count  Dtype  \n",
            "---  ------          --------------  -----  \n",
            " 0   step            6478 non-null   int64  \n",
            " 1   type            6478 non-null   object \n",
            " 2   amount          6478 non-null   float64\n",
            " 3   nameOrig        6478 non-null   object \n",
            " 4   oldbalanceOrg   6478 non-null   float64\n",
            " 5   newbalanceOrig  6478 non-null   float64\n",
            " 6   nameDest        6478 non-null   object \n",
            " 7   oldbalanceDest  6478 non-null   float64\n",
            " 8   newbalanceDest  6478 non-null   float64\n",
            " 9   isFraud         6478 non-null   int64  \n",
            " 10  isFlaggedFraud  6478 non-null   float64\n",
            " 11  valtype         6478 non-null   int64  \n",
            "dtypes: float64(6), int64(3), object(3)\n",
            "memory usage: 657.9+ KB\n"
          ]
        }
      ]
    },
    {
      "cell_type": "code",
      "metadata": {
        "colab": {
          "base_uri": "https://localhost:8080/",
          "height": 142
        },
        "id": "JKdyK1mdFhgw",
        "outputId": "6f40a213-929d-48bf-d47a-bda5ed04d1db"
      },
      "source": [
        "#confirming statistical distribution by group by\n",
        "new_CreditCard.groupby('isFraud').mean()"
      ],
      "execution_count": 88,
      "outputs": [
        {
          "output_type": "execute_result",
          "data": {
            "text/html": [
              "<div>\n",
              "<style scoped>\n",
              "    .dataframe tbody tr th:only-of-type {\n",
              "        vertical-align: middle;\n",
              "    }\n",
              "\n",
              "    .dataframe tbody tr th {\n",
              "        vertical-align: top;\n",
              "    }\n",
              "\n",
              "    .dataframe thead th {\n",
              "        text-align: right;\n",
              "    }\n",
              "</style>\n",
              "<table border=\"1\" class=\"dataframe\">\n",
              "  <thead>\n",
              "    <tr style=\"text-align: right;\">\n",
              "      <th></th>\n",
              "      <th>step</th>\n",
              "      <th>amount</th>\n",
              "      <th>oldbalanceOrg</th>\n",
              "      <th>newbalanceOrig</th>\n",
              "      <th>oldbalanceDest</th>\n",
              "      <th>newbalanceDest</th>\n",
              "      <th>isFlaggedFraud</th>\n",
              "      <th>valtype</th>\n",
              "    </tr>\n",
              "    <tr>\n",
              "      <th>isFraud</th>\n",
              "      <th></th>\n",
              "      <th></th>\n",
              "      <th></th>\n",
              "      <th></th>\n",
              "      <th></th>\n",
              "      <th></th>\n",
              "      <th></th>\n",
              "      <th></th>\n",
              "    </tr>\n",
              "  </thead>\n",
              "  <tbody>\n",
              "    <tr>\n",
              "      <th>0</th>\n",
              "      <td>156.861686</td>\n",
              "      <td>1.452152e+05</td>\n",
              "      <td>8.702377e+05</td>\n",
              "      <td>893433.371633</td>\n",
              "      <td>960815.170670</td>\n",
              "      <td>1.046136e+06</td>\n",
              "      <td>0.000000</td>\n",
              "      <td>2.062674</td>\n",
              "    </tr>\n",
              "    <tr>\n",
              "      <th>1</th>\n",
              "      <td>142.055264</td>\n",
              "      <td>1.341753e+06</td>\n",
              "      <td>1.425771e+06</td>\n",
              "      <td>89225.227669</td>\n",
              "      <td>464701.173439</td>\n",
              "      <td>1.145950e+06</td>\n",
              "      <td>0.000926</td>\n",
              "      <td>2.994134</td>\n",
              "    </tr>\n",
              "  </tbody>\n",
              "</table>\n",
              "</div>"
            ],
            "text/plain": [
              "               step        amount  ...  isFlaggedFraud   valtype\n",
              "isFraud                            ...                          \n",
              "0        156.861686  1.452152e+05  ...        0.000000  2.062674\n",
              "1        142.055264  1.341753e+06  ...        0.000926  2.994134\n",
              "\n",
              "[2 rows x 8 columns]"
            ]
          },
          "metadata": {},
          "execution_count": 88
        }
      ]
    },
    {
      "cell_type": "code",
      "metadata": {
        "colab": {
          "base_uri": "https://localhost:8080/",
          "height": 419
        },
        "id": "roYup-oYszaf",
        "outputId": "f6a6c652-5616-4056-bd0f-0ade10e3cba8"
      },
      "source": [
        "new_CreditCard"
      ],
      "execution_count": 89,
      "outputs": [
        {
          "output_type": "execute_result",
          "data": {
            "text/html": [
              "<div>\n",
              "<style scoped>\n",
              "    .dataframe tbody tr th:only-of-type {\n",
              "        vertical-align: middle;\n",
              "    }\n",
              "\n",
              "    .dataframe tbody tr th {\n",
              "        vertical-align: top;\n",
              "    }\n",
              "\n",
              "    .dataframe thead th {\n",
              "        text-align: right;\n",
              "    }\n",
              "</style>\n",
              "<table border=\"1\" class=\"dataframe\">\n",
              "  <thead>\n",
              "    <tr style=\"text-align: right;\">\n",
              "      <th></th>\n",
              "      <th>step</th>\n",
              "      <th>type</th>\n",
              "      <th>amount</th>\n",
              "      <th>nameOrig</th>\n",
              "      <th>oldbalanceOrg</th>\n",
              "      <th>newbalanceOrig</th>\n",
              "      <th>nameDest</th>\n",
              "      <th>oldbalanceDest</th>\n",
              "      <th>newbalanceDest</th>\n",
              "      <th>isFraud</th>\n",
              "      <th>isFlaggedFraud</th>\n",
              "      <th>valtype</th>\n",
              "    </tr>\n",
              "  </thead>\n",
              "  <tbody>\n",
              "    <tr>\n",
              "      <th>1900065</th>\n",
              "      <td>165</td>\n",
              "      <td>CASH_OUT</td>\n",
              "      <td>68020.74</td>\n",
              "      <td>C1824644492</td>\n",
              "      <td>0.00</td>\n",
              "      <td>0.0</td>\n",
              "      <td>C41028788</td>\n",
              "      <td>9286804.67</td>\n",
              "      <td>9195758.28</td>\n",
              "      <td>0</td>\n",
              "      <td>0.0</td>\n",
              "      <td>2</td>\n",
              "    </tr>\n",
              "    <tr>\n",
              "      <th>3867098</th>\n",
              "      <td>283</td>\n",
              "      <td>CASH_OUT</td>\n",
              "      <td>65797.06</td>\n",
              "      <td>C1683555230</td>\n",
              "      <td>0.00</td>\n",
              "      <td>0.0</td>\n",
              "      <td>C135603139</td>\n",
              "      <td>416808.74</td>\n",
              "      <td>482605.81</td>\n",
              "      <td>0</td>\n",
              "      <td>0.0</td>\n",
              "      <td>2</td>\n",
              "    </tr>\n",
              "    <tr>\n",
              "      <th>3064379</th>\n",
              "      <td>234</td>\n",
              "      <td>PAYMENT</td>\n",
              "      <td>19712.93</td>\n",
              "      <td>C2062725450</td>\n",
              "      <td>0.00</td>\n",
              "      <td>0.0</td>\n",
              "      <td>M1348804289</td>\n",
              "      <td>0.00</td>\n",
              "      <td>0.00</td>\n",
              "      <td>0</td>\n",
              "      <td>0.0</td>\n",
              "      <td>1</td>\n",
              "    </tr>\n",
              "    <tr>\n",
              "      <th>420666</th>\n",
              "      <td>18</td>\n",
              "      <td>CASH_OUT</td>\n",
              "      <td>100409.90</td>\n",
              "      <td>C560673035</td>\n",
              "      <td>0.00</td>\n",
              "      <td>0.0</td>\n",
              "      <td>C126452464</td>\n",
              "      <td>630146.45</td>\n",
              "      <td>730556.35</td>\n",
              "      <td>0</td>\n",
              "      <td>0.0</td>\n",
              "      <td>2</td>\n",
              "    </tr>\n",
              "    <tr>\n",
              "      <th>449419</th>\n",
              "      <td>19</td>\n",
              "      <td>PAYMENT</td>\n",
              "      <td>9833.01</td>\n",
              "      <td>C1052239875</td>\n",
              "      <td>0.00</td>\n",
              "      <td>0.0</td>\n",
              "      <td>M1263036485</td>\n",
              "      <td>0.00</td>\n",
              "      <td>0.00</td>\n",
              "      <td>0</td>\n",
              "      <td>0.0</td>\n",
              "      <td>1</td>\n",
              "    </tr>\n",
              "    <tr>\n",
              "      <th>...</th>\n",
              "      <td>...</td>\n",
              "      <td>...</td>\n",
              "      <td>...</td>\n",
              "      <td>...</td>\n",
              "      <td>...</td>\n",
              "      <td>...</td>\n",
              "      <td>...</td>\n",
              "      <td>...</td>\n",
              "      <td>...</td>\n",
              "      <td>...</td>\n",
              "      <td>...</td>\n",
              "      <td>...</td>\n",
              "    </tr>\n",
              "    <tr>\n",
              "      <th>3916155</th>\n",
              "      <td>284</td>\n",
              "      <td>CASH_OUT</td>\n",
              "      <td>498747.55</td>\n",
              "      <td>C1268687725</td>\n",
              "      <td>498747.55</td>\n",
              "      <td>0.0</td>\n",
              "      <td>C1524935695</td>\n",
              "      <td>0.00</td>\n",
              "      <td>498747.55</td>\n",
              "      <td>1</td>\n",
              "      <td>0.0</td>\n",
              "      <td>2</td>\n",
              "    </tr>\n",
              "    <tr>\n",
              "      <th>3922753</th>\n",
              "      <td>285</td>\n",
              "      <td>TRANSFER</td>\n",
              "      <td>4452001.07</td>\n",
              "      <td>C1140883229</td>\n",
              "      <td>4452001.07</td>\n",
              "      <td>0.0</td>\n",
              "      <td>C428749233</td>\n",
              "      <td>0.00</td>\n",
              "      <td>0.00</td>\n",
              "      <td>1</td>\n",
              "      <td>0.0</td>\n",
              "      <td>4</td>\n",
              "    </tr>\n",
              "    <tr>\n",
              "      <th>3922754</th>\n",
              "      <td>285</td>\n",
              "      <td>CASH_OUT</td>\n",
              "      <td>4452001.07</td>\n",
              "      <td>C1510732148</td>\n",
              "      <td>4452001.07</td>\n",
              "      <td>0.0</td>\n",
              "      <td>C988553635</td>\n",
              "      <td>2899087.80</td>\n",
              "      <td>7351088.87</td>\n",
              "      <td>1</td>\n",
              "      <td>0.0</td>\n",
              "      <td>2</td>\n",
              "    </tr>\n",
              "    <tr>\n",
              "      <th>3924881</th>\n",
              "      <td>285</td>\n",
              "      <td>TRANSFER</td>\n",
              "      <td>752639.78</td>\n",
              "      <td>C1934555881</td>\n",
              "      <td>752639.78</td>\n",
              "      <td>0.0</td>\n",
              "      <td>C13171795</td>\n",
              "      <td>0.00</td>\n",
              "      <td>0.00</td>\n",
              "      <td>1</td>\n",
              "      <td>0.0</td>\n",
              "      <td>4</td>\n",
              "    </tr>\n",
              "    <tr>\n",
              "      <th>3924882</th>\n",
              "      <td>285</td>\n",
              "      <td>CASH_OUT</td>\n",
              "      <td>752639.78</td>\n",
              "      <td>C1541138179</td>\n",
              "      <td>752639.78</td>\n",
              "      <td>0.0</td>\n",
              "      <td>C810413951</td>\n",
              "      <td>290612.69</td>\n",
              "      <td>1043252.47</td>\n",
              "      <td>1</td>\n",
              "      <td>0.0</td>\n",
              "      <td>2</td>\n",
              "    </tr>\n",
              "  </tbody>\n",
              "</table>\n",
              "<p>6478 rows × 12 columns</p>\n",
              "</div>"
            ],
            "text/plain": [
              "         step      type      amount  ... isFraud  isFlaggedFraud  valtype\n",
              "1900065   165  CASH_OUT    68020.74  ...       0             0.0        2\n",
              "3867098   283  CASH_OUT    65797.06  ...       0             0.0        2\n",
              "3064379   234   PAYMENT    19712.93  ...       0             0.0        1\n",
              "420666     18  CASH_OUT   100409.90  ...       0             0.0        2\n",
              "449419     19   PAYMENT     9833.01  ...       0             0.0        1\n",
              "...       ...       ...         ...  ...     ...             ...      ...\n",
              "3916155   284  CASH_OUT   498747.55  ...       1             0.0        2\n",
              "3922753   285  TRANSFER  4452001.07  ...       1             0.0        4\n",
              "3922754   285  CASH_OUT  4452001.07  ...       1             0.0        2\n",
              "3924881   285  TRANSFER   752639.78  ...       1             0.0        4\n",
              "3924882   285  CASH_OUT   752639.78  ...       1             0.0        2\n",
              "\n",
              "[6478 rows x 12 columns]"
            ]
          },
          "metadata": {},
          "execution_count": 89
        }
      ]
    },
    {
      "cell_type": "code",
      "metadata": {
        "colab": {
          "base_uri": "https://localhost:8080/"
        },
        "id": "o86eLUj1Gkyu",
        "outputId": "0f239bcd-655d-458b-c125-119e452fd953"
      },
      "source": [
        "#printing the new data\n",
        "X = new_CreditCard.drop(columns=['type','nameOrig','nameDest','isFraud'])\n",
        "Y= new_CreditCard['isFraud']\n",
        "print(X)\n",
        "print(Y)"
      ],
      "execution_count": 90,
      "outputs": [
        {
          "output_type": "stream",
          "name": "stdout",
          "text": [
            "         step      amount  ...  isFlaggedFraud  valtype\n",
            "1900065   165    68020.74  ...             0.0        2\n",
            "3867098   283    65797.06  ...             0.0        2\n",
            "3064379   234    19712.93  ...             0.0        1\n",
            "420666     18   100409.90  ...             0.0        2\n",
            "449419     19     9833.01  ...             0.0        1\n",
            "...       ...         ...  ...             ...      ...\n",
            "3916155   284   498747.55  ...             0.0        2\n",
            "3922753   285  4452001.07  ...             0.0        4\n",
            "3922754   285  4452001.07  ...             0.0        2\n",
            "3924881   285   752639.78  ...             0.0        4\n",
            "3924882   285   752639.78  ...             0.0        2\n",
            "\n",
            "[6478 rows x 8 columns]\n",
            "1900065    0\n",
            "3867098    0\n",
            "3064379    0\n",
            "420666     0\n",
            "449419     0\n",
            "          ..\n",
            "3916155    1\n",
            "3922753    1\n",
            "3922754    1\n",
            "3924881    1\n",
            "3924882    1\n",
            "Name: isFraud, Length: 6478, dtype: int64\n"
          ]
        }
      ]
    },
    {
      "cell_type": "code",
      "metadata": {
        "id": "RVPo79CpGzuV"
      },
      "source": [
        "#Dividing the data into training and test data\n",
        "X_train,X_test,Y_train,Y_test=train_test_split(X,Y,test_size=0.25,stratify=Y,random_state=456)"
      ],
      "execution_count": 93,
      "outputs": []
    },
    {
      "cell_type": "code",
      "metadata": {
        "colab": {
          "base_uri": "https://localhost:8080/"
        },
        "id": "jGv7dk2jHe1M",
        "outputId": "6a32b86a-9fc2-4c72-e770-c6a3fce77d66"
      },
      "source": [
        "#confirming the data\n",
        "print(X_train)\n",
        "print(Y_train)\n"
      ],
      "execution_count": 94,
      "outputs": [
        {
          "output_type": "stream",
          "name": "stdout",
          "text": [
            "         step      amount  ...  isFlaggedFraud  valtype\n",
            "3119962   236     8360.86  ...             0.0        1\n",
            "143437     11   376783.39  ...             0.0        2\n",
            "3657624   275  4162555.99  ...             0.0        4\n",
            "3608569   265   415437.27  ...             0.0        4\n",
            "605779     34    51424.22  ...             0.0        2\n",
            "...       ...         ...  ...             ...      ...\n",
            "3233940   250   316050.41  ...             0.0        3\n",
            "1510963   146   322329.78  ...             0.0        2\n",
            "3513189   259     5398.49  ...             0.0        2\n",
            "1110354   130   106682.99  ...             0.0        3\n",
            "2801097   219  2312944.11  ...             0.0        4\n",
            "\n",
            "[4858 rows x 8 columns]\n",
            "3119962    0\n",
            "143437     0\n",
            "3657624    1\n",
            "3608569    1\n",
            "605779     1\n",
            "          ..\n",
            "3233940    0\n",
            "1510963    1\n",
            "3513189    0\n",
            "1110354    0\n",
            "2801097    1\n",
            "Name: isFraud, Length: 4858, dtype: int64\n"
          ]
        }
      ]
    },
    {
      "cell_type": "code",
      "metadata": {
        "colab": {
          "base_uri": "https://localhost:8080/"
        },
        "id": "jdl4a2oKHsH2",
        "outputId": "a6c92295-d077-40b7-873a-fecd4452a3ae"
      },
      "source": [
        "print(Y_test)\n",
        "print(X_test)"
      ],
      "execution_count": 95,
      "outputs": [
        {
          "output_type": "stream",
          "name": "stdout",
          "text": [
            "10218      1\n",
            "1756799    0\n",
            "2780306    1\n",
            "3230305    1\n",
            "2217315    1\n",
            "          ..\n",
            "1141252    1\n",
            "1511386    1\n",
            "1030394    1\n",
            "3153662    0\n",
            "3351696    0\n",
            "Name: isFraud, Length: 1620, dtype: int64\n",
            "         step       amount  ...  isFlaggedFraud  valtype\n",
            "10218       7     21729.00  ...             0.0        4\n",
            "1756799   161     71446.18  ...             0.0        3\n",
            "2780306   214     39525.63  ...             0.0        2\n",
            "3230305   250    177217.55  ...             0.0        4\n",
            "2217315   186    327282.92  ...             0.0        4\n",
            "...       ...          ...  ...             ...      ...\n",
            "1141252   131  10000000.00  ...             0.0        2\n",
            "1511386   152   2175288.90  ...             0.0        4\n",
            "1030394    61   1372301.24  ...             0.0        2\n",
            "3153662   237    206554.71  ...             0.0        3\n",
            "3351696   253      3273.21  ...             0.0        1\n",
            "\n",
            "[1620 rows x 8 columns]\n"
          ]
        }
      ]
    },
    {
      "cell_type": "code",
      "metadata": {
        "id": "HV4OouwDH0Mc"
      },
      "source": [
        "#Modelling Training with Logistic Regression Model\n",
        "model = LogisticRegression(C=1e5)"
      ],
      "execution_count": 96,
      "outputs": []
    },
    {
      "cell_type": "code",
      "metadata": {
        "colab": {
          "base_uri": "https://localhost:8080/"
        },
        "id": "iToK3sh-H9qu",
        "outputId": "666ff999-94bf-466c-ed03-581f0f1eb3db"
      },
      "source": [
        "#Training the logistic regression model with training data\n",
        "print(X_train)"
      ],
      "execution_count": 97,
      "outputs": [
        {
          "output_type": "stream",
          "name": "stdout",
          "text": [
            "         step      amount  ...  isFlaggedFraud  valtype\n",
            "3119962   236     8360.86  ...             0.0        1\n",
            "143437     11   376783.39  ...             0.0        2\n",
            "3657624   275  4162555.99  ...             0.0        4\n",
            "3608569   265   415437.27  ...             0.0        4\n",
            "605779     34    51424.22  ...             0.0        2\n",
            "...       ...         ...  ...             ...      ...\n",
            "3233940   250   316050.41  ...             0.0        3\n",
            "1510963   146   322329.78  ...             0.0        2\n",
            "3513189   259     5398.49  ...             0.0        2\n",
            "1110354   130   106682.99  ...             0.0        3\n",
            "2801097   219  2312944.11  ...             0.0        4\n",
            "\n",
            "[4858 rows x 8 columns]\n"
          ]
        }
      ]
    },
    {
      "cell_type": "code",
      "metadata": {
        "colab": {
          "base_uri": "https://localhost:8080/",
          "height": 419
        },
        "id": "f7pHTu09IBXJ",
        "outputId": "52a56dc4-365e-4166-9a89-e332f3867f27"
      },
      "source": [
        "X_train"
      ],
      "execution_count": 106,
      "outputs": [
        {
          "output_type": "execute_result",
          "data": {
            "text/html": [
              "<div>\n",
              "<style scoped>\n",
              "    .dataframe tbody tr th:only-of-type {\n",
              "        vertical-align: middle;\n",
              "    }\n",
              "\n",
              "    .dataframe tbody tr th {\n",
              "        vertical-align: top;\n",
              "    }\n",
              "\n",
              "    .dataframe thead th {\n",
              "        text-align: right;\n",
              "    }\n",
              "</style>\n",
              "<table border=\"1\" class=\"dataframe\">\n",
              "  <thead>\n",
              "    <tr style=\"text-align: right;\">\n",
              "      <th></th>\n",
              "      <th>step</th>\n",
              "      <th>amount</th>\n",
              "      <th>oldbalanceOrg</th>\n",
              "      <th>newbalanceOrig</th>\n",
              "      <th>oldbalanceDest</th>\n",
              "      <th>newbalanceDest</th>\n",
              "      <th>isFlaggedFraud</th>\n",
              "      <th>valtype</th>\n",
              "    </tr>\n",
              "  </thead>\n",
              "  <tbody>\n",
              "    <tr>\n",
              "      <th>3119962</th>\n",
              "      <td>236</td>\n",
              "      <td>8360.86</td>\n",
              "      <td>0.00</td>\n",
              "      <td>0.00</td>\n",
              "      <td>0.00</td>\n",
              "      <td>0.00</td>\n",
              "      <td>0.0</td>\n",
              "      <td>1</td>\n",
              "    </tr>\n",
              "    <tr>\n",
              "      <th>143437</th>\n",
              "      <td>11</td>\n",
              "      <td>376783.39</td>\n",
              "      <td>30892.00</td>\n",
              "      <td>0.00</td>\n",
              "      <td>1758419.93</td>\n",
              "      <td>2135203.32</td>\n",
              "      <td>0.0</td>\n",
              "      <td>2</td>\n",
              "    </tr>\n",
              "    <tr>\n",
              "      <th>3657624</th>\n",
              "      <td>275</td>\n",
              "      <td>4162555.99</td>\n",
              "      <td>4162555.99</td>\n",
              "      <td>0.00</td>\n",
              "      <td>0.00</td>\n",
              "      <td>0.00</td>\n",
              "      <td>0.0</td>\n",
              "      <td>4</td>\n",
              "    </tr>\n",
              "    <tr>\n",
              "      <th>3608569</th>\n",
              "      <td>265</td>\n",
              "      <td>415437.27</td>\n",
              "      <td>415437.27</td>\n",
              "      <td>0.00</td>\n",
              "      <td>0.00</td>\n",
              "      <td>0.00</td>\n",
              "      <td>0.0</td>\n",
              "      <td>4</td>\n",
              "    </tr>\n",
              "    <tr>\n",
              "      <th>605779</th>\n",
              "      <td>34</td>\n",
              "      <td>51424.22</td>\n",
              "      <td>51424.22</td>\n",
              "      <td>0.00</td>\n",
              "      <td>87252.78</td>\n",
              "      <td>138677.00</td>\n",
              "      <td>0.0</td>\n",
              "      <td>2</td>\n",
              "    </tr>\n",
              "    <tr>\n",
              "      <th>...</th>\n",
              "      <td>...</td>\n",
              "      <td>...</td>\n",
              "      <td>...</td>\n",
              "      <td>...</td>\n",
              "      <td>...</td>\n",
              "      <td>...</td>\n",
              "      <td>...</td>\n",
              "      <td>...</td>\n",
              "    </tr>\n",
              "    <tr>\n",
              "      <th>3233940</th>\n",
              "      <td>250</td>\n",
              "      <td>316050.41</td>\n",
              "      <td>26088.00</td>\n",
              "      <td>342138.41</td>\n",
              "      <td>0.00</td>\n",
              "      <td>0.00</td>\n",
              "      <td>0.0</td>\n",
              "      <td>3</td>\n",
              "    </tr>\n",
              "    <tr>\n",
              "      <th>1510963</th>\n",
              "      <td>146</td>\n",
              "      <td>322329.78</td>\n",
              "      <td>322329.78</td>\n",
              "      <td>0.00</td>\n",
              "      <td>115917.67</td>\n",
              "      <td>438247.45</td>\n",
              "      <td>0.0</td>\n",
              "      <td>2</td>\n",
              "    </tr>\n",
              "    <tr>\n",
              "      <th>3513189</th>\n",
              "      <td>259</td>\n",
              "      <td>5398.49</td>\n",
              "      <td>25708.00</td>\n",
              "      <td>20309.51</td>\n",
              "      <td>0.00</td>\n",
              "      <td>5398.49</td>\n",
              "      <td>0.0</td>\n",
              "      <td>2</td>\n",
              "    </tr>\n",
              "    <tr>\n",
              "      <th>1110354</th>\n",
              "      <td>130</td>\n",
              "      <td>106682.99</td>\n",
              "      <td>6131426.36</td>\n",
              "      <td>6238109.35</td>\n",
              "      <td>1153512.38</td>\n",
              "      <td>1046829.39</td>\n",
              "      <td>0.0</td>\n",
              "      <td>3</td>\n",
              "    </tr>\n",
              "    <tr>\n",
              "      <th>2801097</th>\n",
              "      <td>219</td>\n",
              "      <td>2312944.11</td>\n",
              "      <td>2312944.11</td>\n",
              "      <td>0.00</td>\n",
              "      <td>0.00</td>\n",
              "      <td>0.00</td>\n",
              "      <td>0.0</td>\n",
              "      <td>4</td>\n",
              "    </tr>\n",
              "  </tbody>\n",
              "</table>\n",
              "<p>4858 rows × 8 columns</p>\n",
              "</div>"
            ],
            "text/plain": [
              "         step      amount  ...  isFlaggedFraud  valtype\n",
              "3119962   236     8360.86  ...             0.0        1\n",
              "143437     11   376783.39  ...             0.0        2\n",
              "3657624   275  4162555.99  ...             0.0        4\n",
              "3608569   265   415437.27  ...             0.0        4\n",
              "605779     34    51424.22  ...             0.0        2\n",
              "...       ...         ...  ...             ...      ...\n",
              "3233940   250   316050.41  ...             0.0        3\n",
              "1510963   146   322329.78  ...             0.0        2\n",
              "3513189   259     5398.49  ...             0.0        2\n",
              "1110354   130   106682.99  ...             0.0        3\n",
              "2801097   219  2312944.11  ...             0.0        4\n",
              "\n",
              "[4858 rows x 8 columns]"
            ]
          },
          "metadata": {},
          "execution_count": 106
        }
      ]
    },
    {
      "cell_type": "code",
      "metadata": {
        "colab": {
          "base_uri": "https://localhost:8080/"
        },
        "id": "NbcnLhHOyPqF",
        "outputId": "ae0c48e9-eeaf-4d41-ef72-869962931e2f"
      },
      "source": [
        "#Training the logistic regression model with training data\n",
        "model.fit(X_train,Y_train)"
      ],
      "execution_count": 107,
      "outputs": [
        {
          "output_type": "execute_result",
          "data": {
            "text/plain": [
              "LogisticRegression(C=100000.0, class_weight=None, dual=False,\n",
              "                   fit_intercept=True, intercept_scaling=1, l1_ratio=None,\n",
              "                   max_iter=100, multi_class='auto', n_jobs=None, penalty='l2',\n",
              "                   random_state=None, solver='lbfgs', tol=0.0001, verbose=0,\n",
              "                   warm_start=False)"
            ]
          },
          "metadata": {},
          "execution_count": 107
        }
      ]
    },
    {
      "cell_type": "code",
      "metadata": {
        "id": "Y0nW5Q9OJMmg",
        "colab": {
          "base_uri": "https://localhost:8080/"
        },
        "outputId": "1d8fc45c-8376-405d-fb1d-23ea2b35d7b5"
      },
      "source": [
        "#Model Evaluation with Accuracy Score\n",
        "#accuracy on training data\n",
        "X_predict =np.array(model.predict(X_train))\n",
        "X_Train_Accuracy =accuracy_score(X_predict,Y_train)\n",
        "print('Our training data accuracy model score is: ',X_Train_Accuracy)"
      ],
      "execution_count": 116,
      "outputs": [
        {
          "output_type": "stream",
          "name": "stdout",
          "text": [
            "Our training data accuracy model score is:  0.9279538904899135\n"
          ]
        }
      ]
    },
    {
      "cell_type": "code",
      "metadata": {
        "colab": {
          "base_uri": "https://localhost:8080/"
        },
        "id": "fLACaBX0zU7X",
        "outputId": "0bdd9c2b-097c-4819-ec3c-a4cb2ca7d398"
      },
      "source": [
        "#Model Evaluation with confusion matrix\n",
        "#training data confusion matrix score\n",
        "X_predict =np.array(model.predict(X_train))\n",
        "X_Train_Confusion_Score = confusion_matrix(X_predict,Y_train)\n",
        "print('Our training data confusion matrix model score is: ',X_Train_Confusion_Score)"
      ],
      "execution_count": 119,
      "outputs": [
        {
          "output_type": "stream",
          "name": "stdout",
          "text": [
            "Our training data confusion matrix model score is:  [[2338  259]\n",
            " [  91 2170]]\n"
          ]
        }
      ]
    },
    {
      "cell_type": "code",
      "metadata": {
        "colab": {
          "base_uri": "https://localhost:8080/"
        },
        "id": "No8bBbG50snf",
        "outputId": "100f6d3a-8968-48cd-e5fc-2f42ea0d3cf4"
      },
      "source": [
        "#Model Evaluation with classification report\n",
        "#training data classification report\n",
        "X_predict =np.array(model.predict(X_train))\n",
        "X_train_CR = classification_report(X_predict,Y_train)\n",
        "print('Our training data classification report is: ',X_train_CR)"
      ],
      "execution_count": 121,
      "outputs": [
        {
          "output_type": "stream",
          "name": "stdout",
          "text": [
            "Our training data classification report is:                precision    recall  f1-score   support\n",
            "\n",
            "           0       0.96      0.90      0.93      2597\n",
            "           1       0.89      0.96      0.93      2261\n",
            "\n",
            "    accuracy                           0.93      4858\n",
            "   macro avg       0.93      0.93      0.93      4858\n",
            "weighted avg       0.93      0.93      0.93      4858\n",
            "\n"
          ]
        }
      ]
    },
    {
      "cell_type": "code",
      "metadata": {
        "id": "HUTynN3ZkNwJ"
      },
      "source": [
        "#Model Evaluation with Accuracy Score\n",
        "#accuracy on training data\n",
        "X_predict =np.array(model.predict(X_train))\n",
        "X_Train_Accuracy =accuracy_score(X_predict,Y_train)\n",
        "X_Train_Accuracy"
      ],
      "execution_count": 80,
      "outputs": []
    }
  ]
}